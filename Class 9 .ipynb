{
 "cells": [
  {
   "cell_type": "code",
   "execution_count": 1,
   "id": "9d9de893",
   "metadata": {},
   "outputs": [],
   "source": [
    "# print "
   ]
  },
  {
   "cell_type": "code",
   "execution_count": 7,
   "id": "b2fb4cd6",
   "metadata": {},
   "outputs": [
    {
     "ename": "IndentationError",
     "evalue": "expected an indented block after 'if' statement on line 3 (2811324392.py, line 4)",
     "output_type": "error",
     "traceback": [
      "\u001b[1;36m  Input \u001b[1;32mIn [7]\u001b[1;36m\u001b[0m\n\u001b[1;33m    print(i,end='  ')\u001b[0m\n\u001b[1;37m    ^\u001b[0m\n\u001b[1;31mIndentationError\u001b[0m\u001b[1;31m:\u001b[0m expected an indented block after 'if' statement on line 3\n"
     ]
    }
   ],
   "source": [
    "L=[1,2,3,'a','b','c',8.4,9.5]\n",
    "for i in L:\n",
    "    if isinstance(i,str):\n",
    "    print(i,end='  ')"
   ]
  },
  {
   "cell_type": "code",
   "execution_count": 17,
   "id": "232c3139",
   "metadata": {},
   "outputs": [],
   "source": [
    "a=[1,2,3,'a','b','c',8.6,9.1]"
   ]
  },
  {
   "cell_type": "code",
   "execution_count": 18,
   "id": "f4b2c962",
   "metadata": {},
   "outputs": [
    {
     "name": "stdout",
     "output_type": "stream",
     "text": [
      "a b c 8.6 9.1 "
     ]
    }
   ],
   "source": [
    "for i in a:\n",
    "    if isinstance(i,(str,float)):\n",
    "        print(i,end=' ')"
   ]
  },
  {
   "cell_type": "code",
   "execution_count": 20,
   "id": "24b82220",
   "metadata": {},
   "outputs": [
    {
     "ename": "IndentationError",
     "evalue": "expected an indented block after 'for' statement on line 1 (3997074675.py, line 2)",
     "output_type": "error",
     "traceback": [
      "\u001b[1;36m  Input \u001b[1;32mIn [20]\u001b[1;36m\u001b[0m\n\u001b[1;33m    if type(i)==type(1):\u001b[0m\n\u001b[1;37m    ^\u001b[0m\n\u001b[1;31mIndentationError\u001b[0m\u001b[1;31m:\u001b[0m expected an indented block after 'for' statement on line 1\n"
     ]
    }
   ],
   "source": [
    "for i in a:\n",
    "if type(i)==type(1):\n",
    "    print(i,end=' ')"
   ]
  },
  {
   "cell_type": "code",
   "execution_count": null,
   "id": "662d8ebc",
   "metadata": {},
   "outputs": [],
   "source": [
    "# problem 2"
   ]
  },
  {
   "cell_type": "code",
   "execution_count": 22,
   "id": "f11f23c5",
   "metadata": {},
   "outputs": [
    {
     "name": "stdout",
     "output_type": "stream",
     "text": [
      "a b c 13 14 15 "
     ]
    }
   ],
   "source": [
    "l=[\"a\",\"b\",\"c\",3,4,5]                                 #recommended method\n",
    "for i in l:\n",
    "    print(i+10 if isinstance(i,int) else i,end=' ')"
   ]
  },
  {
   "cell_type": "code",
   "execution_count": 23,
   "id": "01db0d77",
   "metadata": {},
   "outputs": [
    {
     "name": "stdout",
     "output_type": "stream",
     "text": [
      "a b c 14 15 16 "
     ]
    }
   ],
   "source": [
    "l=[\"a\",\"b\",\"c\",4,5,6]\n",
    "for i in l:\n",
    "    print(i+(10 if isinstance(i,int)else''),end=' ')"
   ]
  },
  {
   "cell_type": "code",
   "execution_count": 24,
   "id": "68f34e31",
   "metadata": {},
   "outputs": [
    {
     "name": "stdout",
     "output_type": "stream",
     "text": [
      "a b c 14 15 16 "
     ]
    }
   ],
   "source": [
    "l=[\"a\",\"b\",\"c\",4,5,6]\n",
    "for i in l:\n",
    "    print(i+10,end=' ') if isinstance(i,int) else print(i,end=' ')"
   ]
  },
  {
   "cell_type": "code",
   "execution_count": 25,
   "id": "673f6d0b",
   "metadata": {},
   "outputs": [],
   "source": [
    "#problem 3"
   ]
  },
  {
   "cell_type": "code",
   "execution_count": null,
   "id": "4f3c71c9",
   "metadata": {},
   "outputs": [],
   "source": []
  }
 ],
 "metadata": {
  "kernelspec": {
   "display_name": "Python 3 (ipykernel)",
   "language": "python",
   "name": "python3"
  },
  "language_info": {
   "codemirror_mode": {
    "name": "ipython",
    "version": 3
   },
   "file_extension": ".py",
   "mimetype": "text/x-python",
   "name": "python",
   "nbconvert_exporter": "python",
   "pygments_lexer": "ipython3",
   "version": "3.10.2"
  }
 },
 "nbformat": 4,
 "nbformat_minor": 5
}
